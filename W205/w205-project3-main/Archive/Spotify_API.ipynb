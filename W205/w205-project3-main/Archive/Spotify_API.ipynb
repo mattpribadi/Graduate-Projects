{
 "cells": [
  {
   "cell_type": "code",
   "execution_count": 1,
   "metadata": {},
   "outputs": [],
   "source": [
    "import requests\n",
    "import pprint\n",
    "import json"
   ]
  },
  {
   "cell_type": "code",
   "execution_count": 2,
   "metadata": {},
   "outputs": [],
   "source": [
    "p = pprint.PrettyPrinter(indent=1)"
   ]
  },
  {
   "cell_type": "code",
   "execution_count": 3,
   "metadata": {},
   "outputs": [],
   "source": [
    "CLIENT_ID = 'ec1ed293110d439f872a8c7adb83a3e4'\n",
    "CLIENT_SECRET = 'c38e39f4c660429d8cf5c700ab97a8b5'"
   ]
  },
  {
   "cell_type": "code",
   "execution_count": 4,
   "metadata": {},
   "outputs": [],
   "source": [
    "AUTH_URL = 'https://accounts.spotify.com/api/token'"
   ]
  },
  {
   "cell_type": "code",
   "execution_count": 5,
   "metadata": {},
   "outputs": [],
   "source": [
    "# POST\n",
    "auth_response = requests.post(AUTH_URL, {\n",
    "    'grant_type': 'client_credentials',\n",
    "    'client_id': CLIENT_ID,\n",
    "    'client_secret': CLIENT_SECRET,\n",
    "})\n",
    "\n",
    "# convert the response to JSON\n",
    "auth_response_data = auth_response.json()\n",
    "\n",
    "# save the access token\n",
    "access_token = auth_response_data['access_token']"
   ]
  },
  {
   "cell_type": "code",
   "execution_count": 6,
   "metadata": {},
   "outputs": [
    {
     "data": {
      "text/plain": [
       "'BQBXVTgPbxs8Pb-tN6NwuE8iTp3YXpEpiXd9IxuJs2PCo_NQoqVnRgyAeoRI8q021Vmx914jYakSlLSH5rk'"
      ]
     },
     "execution_count": 6,
     "metadata": {},
     "output_type": "execute_result"
    }
   ],
   "source": [
    "access_token"
   ]
  },
  {
   "cell_type": "code",
   "execution_count": 7,
   "metadata": {},
   "outputs": [],
   "source": [
    "headers = {\n",
    "    'Authorization': 'Bearer {token}'.format(token=access_token)\n",
    "}"
   ]
  },
  {
   "cell_type": "code",
   "execution_count": 8,
   "metadata": {},
   "outputs": [],
   "source": [
    "# base URL of all Spotify API endpoints\n",
    "BASE_URL = 'https://api.spotify.com/v1/'"
   ]
  },
  {
   "cell_type": "code",
   "execution_count": 24,
   "metadata": {},
   "outputs": [],
   "source": [
    "#USA \"Today's Top Hits\"\n",
    "#playlist_id = '37i9dQZF1DXcBWIGoYBM5M'\n",
    "\n",
    "# Top 50 in Germany\n",
    "playlist_id = '2vWo3FE3W86L3DHTGh2B2l'\n",
    "\n",
    "# Top 50 in Russia\n",
    "#playlist_id = '3MxLHSEh0admoYDH0GaY2'\n",
    "\n",
    "# Top 50 in Japan\n",
    "#playlist_id = '37i9dQZF1DXayDMsJG9ZBv'\n",
    "\n",
    "# Top 50 in Vietnam\n",
    "#playlist_id = '37i9dQZF1DX0F4i7Q9pshJ'"
   ]
  },
  {
   "cell_type": "code",
   "execution_count": 25,
   "metadata": {},
   "outputs": [],
   "source": [
    "# pull playlists\n",
    "r = requests.get(BASE_URL + 'playlists/' + playlist_id, \n",
    "                 headers=headers, \n",
    "                 params={'include_groups': 'album', 'limit': 50})\n",
    "d = r.json()"
   ]
  },
  {
   "cell_type": "code",
   "execution_count": 26,
   "metadata": {},
   "outputs": [],
   "source": [
    "# Song JSON Dump Test File\n",
    "# with open(\"songs.json\", \"w\") as outfile: \n",
    "#     json.dump(d, outfile)"
   ]
  },
  {
   "cell_type": "code",
   "execution_count": 27,
   "metadata": {},
   "outputs": [],
   "source": [
    "playlist_dict = {}\n",
    "count = 1\n",
    "for item in d['tracks']['items']:\n",
    "    track_dict = {}\n",
    "    artists = []\n",
    "    for track in item['track']['artists']:\n",
    "        artists.append(track['name'])\n",
    "    join_artists = \", \".join(artists)\n",
    "    \n",
    "    track_dict['artist'] = join_artists\n",
    "    track_dict['song'] = item['track']['name']\n",
    "    track_dict['song_id'] = item['track']['id']\n",
    "    \n",
    "    playlist_dict[count] = track_dict\n",
    "    \n",
    "    count += 1\n",
    "    \n",
    "#print(playlist_dict)"
   ]
  },
  {
   "cell_type": "code",
   "execution_count": 28,
   "metadata": {},
   "outputs": [],
   "source": [
    "#Dump JSON into a file\n",
    "with open(\"../w205-project3/outputs/spotify/top_50_Ger.json\", \"w\") as outfile: \n",
    "    json.dump(playlist_dict, outfile)"
   ]
  },
  {
   "cell_type": "code",
   "execution_count": null,
   "metadata": {},
   "outputs": [],
   "source": []
  }
 ],
 "metadata": {
  "environment": {
   "name": "tf-gpu.1-15.m69",
   "type": "gcloud",
   "uri": "gcr.io/deeplearning-platform-release/tf-gpu.1-15:m69"
  },
  "kernelspec": {
   "display_name": "Python 3",
   "language": "python",
   "name": "python3"
  },
  "language_info": {
   "codemirror_mode": {
    "name": "ipython",
    "version": 3
   },
   "file_extension": ".py",
   "mimetype": "text/x-python",
   "name": "python",
   "nbconvert_exporter": "python",
   "pygments_lexer": "ipython3",
   "version": "3.7.10"
  }
 },
 "nbformat": 4,
 "nbformat_minor": 4
}
