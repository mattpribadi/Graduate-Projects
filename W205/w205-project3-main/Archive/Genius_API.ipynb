{
 "cells": [
  {
   "cell_type": "code",
   "execution_count": 1,
   "metadata": {},
   "outputs": [
    {
     "name": "stdout",
     "output_type": "stream",
     "text": [
      "Collecting bs4\n",
      "  Downloading bs4-0.0.1.tar.gz (1.1 kB)\n",
      "Collecting beautifulsoup4\n",
      "  Downloading beautifulsoup4-4.9.3-py3-none-any.whl (115 kB)\n",
      "\u001b[K     |████████████████████████████████| 115 kB 7.0 MB/s eta 0:00:01\n",
      "\u001b[?25hCollecting soupsieve>1.2\n",
      "  Downloading soupsieve-2.2.1-py3-none-any.whl (33 kB)\n",
      "Building wheels for collected packages: bs4\n",
      "  Building wheel for bs4 (setup.py) ... \u001b[?25ldone\n",
      "\u001b[?25h  Created wheel for bs4: filename=bs4-0.0.1-py3-none-any.whl size=1273 sha256=3afe4574f5987f025347441326a83f46c2c52730a094ca1c04773beee055f827\n",
      "  Stored in directory: /home/jupyter/.cache/pip/wheels/0a/9e/ba/20e5bbc1afef3a491f0b3bb74d508f99403aabe76eda2167ca\n",
      "Successfully built bs4\n",
      "Installing collected packages: soupsieve, beautifulsoup4, bs4\n",
      "Successfully installed beautifulsoup4-4.9.3 bs4-0.0.1 soupsieve-2.2.1\n"
     ]
    }
   ],
   "source": [
    "!pip install bs4"
   ]
  },
  {
   "cell_type": "code",
   "execution_count": 2,
   "metadata": {},
   "outputs": [],
   "source": [
    "import requests\n",
    "import re\n",
    "import json\n",
    "from bs4 import BeautifulSoup\n",
    "\n",
    "def lyrics_from_song_api_path(song_api_path, headers):\n",
    "    base_url = \"http://api.genius.com\"\n",
    "    song_url = base_url + song_api_path\n",
    "    response = requests.get(song_url, headers=headers)\n",
    "    json = response.json()\n",
    "    path = json[\"response\"][\"song\"][\"path\"]\n",
    "    #html scraping\n",
    "    page_url = \"http://genius.com\" + path\n",
    "    page = requests.get(page_url)\n",
    "    #removing script symbols\n",
    "    page=re.sub('<br/>', '\\n', page.text)\n",
    "    #removing words [Verse...] and [Chorus...]\n",
    "    page=re.sub('\\[.*.\\]', ' ', page)\n",
    "    #removing extra spaces\n",
    "    page=re.sub('\\n{2}', ' ', page)\n",
    "    html = BeautifulSoup(page, \"html.parser\")\n",
    "    #finding tag called 'lyrics'!\n",
    "    lyrics = html.find(\"div\", class_=re.compile(\"Lyrics|^lyrics$|Lyrics_Root\")).get_text() #updated css where the lyrics are based in HTML\n",
    "    #removing Test Section stuck at the front\n",
    "    lyrics=re.sub('test placeholderSaveSave.*','',lyrics)\n",
    "    #removing Embedded Section stuck at the end\n",
    "    lyrics=re.sub('[0-9].*.EmbedShare URLCopyEmbedCopy|EmbedShare URLCopyEmbedCopy', ' ', lyrics)\n",
    "    #removing (') as it confuses code\n",
    "    lyrics=re.sub('\\'','', lyrics)\n",
    "    #removing all line breaks (\\n)\n",
    "    lyrics=list(lyrics)\n",
    "    lyrics = [\", \" if elem == \"\\n\" else elem for elem in lyrics]\n",
    "    lyrics.remove(\", \")\n",
    "    lyrics=\"\".join(lyrics)\n",
    "    return lyrics\n",
    "\n",
    "def get_info_genius_API(song_title, artist_name, headers):\n",
    "    base_url = \"http://api.genius.com\"\n",
    "    search_url = base_url + \"/search\"\n",
    "    song_title=re.sub('\\(.*\\)', '', song_title)\n",
    "    data = {'q': song_title+', '+artist_name}\n",
    "    response = requests.get(search_url, params=data, headers=headers)\n",
    "    json = response.json()\n",
    "    song_info = None\n",
    "    for hit in json[\"response\"][\"hits\"]:\n",
    "        hit_title=hit[\"result\"][\"title\"]\n",
    "        \n",
    "        primary_hit_title=re.sub('\\(.*\\)', '', hit_title).lower().strip()\n",
    "        primary_song_title=re.sub('-.*','',song_title).lower().strip()\n",
    "        \n",
    "        hit_artist_name=hit[\"result\"][\"primary_artist\"][\"name\"]\n",
    "        primary_artist_name=re.sub('(,|&).*', '', artist_name).lower()\n",
    "        primary_hit_artist_name=re.sub('(,|&).*', '', hit_artist_name).lower()  \n",
    "        \n",
    "        if (primary_hit_title== primary_song_title): return hit\n",
    "        elif (primary_hit_artist_name == primary_artist_name): return hit\n",
    "    return None \n",
    "\n",
    "\n",
    "def get_lyrics_genius_API(song_title, artist_name):\n",
    "    client_access_token='Q56ffH3XEyFV-Obd4uUhh2E8aZvC3ncgNXRPef5qP1nhyJaLUbr5ENYuZNtB472_'\n",
    "    headers = {'Authorization': 'Bearer '+client_access_token}\n",
    "    song_info = get_info_genius_API(song_title, artist_name, headers)\n",
    "    if song_info: \n",
    "        song_api_path = song_info[\"result\"][\"api_path\"]\n",
    "        return lyrics_from_song_api_path(song_api_path, headers)\n",
    "    else:\n",
    "        artist_name=re.sub('(,|&).*', '', artist_name)\n",
    "        song_info = get_info_genius_API(song_title, artist_name, headers)\n",
    "        if song_info: \n",
    "            song_api_path = song_info[\"result\"][\"api_path\"]\n",
    "            return lyrics_from_song_api_path(song_api_path, headers)\n",
    "    print(\"Error: No Match \"+song_title+\" by \"+artist_name)\n",
    "    return None\n",
    "    \n",
    "def get_lyrics_dict(json_data):\n",
    "    lyrics_json={}\n",
    "    for index, value in json_data.items():\n",
    "        track_lyrics_dict={}\n",
    "        artist = value['artist']\n",
    "        track =  value['song']\n",
    "        song_id= value['song_id']\n",
    "        lyrics=get_lyrics_genius_API(song_title= track, artist_name= artist)\n",
    "        try:\n",
    "            track_lyrics_dict[\"song_id\"]=song_id\n",
    "            track_lyrics_dict[\"lyrics\"]=lyrics\n",
    "            lyrics_json[index]=track_lyrics_dict\n",
    "        except TypeError:\n",
    "            print(index)\n",
    "            continue\n",
    "    return lyrics_json\n",
    "            \n",
    "def read_json_file(file_name):\n",
    "    file = open(file_name,\"r\")\n",
    "    s = file.read()\n",
    "    json_data = json.loads(s)\n",
    "    file.close()\n",
    "    return json_data\n",
    "\n",
    "def spotify_json_to_lyrics_json(file_name):\n",
    "    spotify_outputs_path='../w205-project3/outputs/spotify/'\n",
    "    json_data=read_json_file(spotify_outputs_path+file_name)\n",
    "    lyrics_dict=get_lyrics_dict(json_data)\n",
    "    with open('../w205-project3/outputs/genius/genuis_lyrics_'+file_name, \"w\") as outfile: \n",
    "        json.dump(lyrics_dict, outfile)"
   ]
  },
  {
   "cell_type": "code",
   "execution_count": 4,
   "metadata": {},
   "outputs": [],
   "source": [
    "spotify_json_to_lyrics_json('top_50_US.json')"
   ]
  },
  {
   "cell_type": "code",
   "execution_count": 4,
   "metadata": {},
   "outputs": [
    {
     "name": "stdout",
     "output_type": "stream",
     "text": [
      "Error: No Match 僕のスピな人 by Maharajan\n",
      "Error: No Match Given-Taken - Japanese Ver. by ENHYPEN\n",
      "Error: No Match U+ by にしな\n"
     ]
    }
   ],
   "source": [
    "spotify_json_to_lyrics_json('top_50_JP.json')"
   ]
  },
  {
   "cell_type": "code",
   "execution_count": 5,
   "metadata": {},
   "outputs": [
    {
     "name": "stdout",
     "output_type": "stream",
     "text": [
      "Error: No Match double take by dhruv\n",
      "Error: No Match The Playah (feat. SlimV) - Special Performance by Soobin Hoang Son\n",
      "Error: No Match 3 1 0 7 - 2 (feat. W/N & Nau) by W/N\n",
      "Error: No Match Tháng Mấy Em Nhớ Anh? by Ha Anh Tuan\n",
      "Error: No Match Ke Cap Gap Ba Gia (feat. BINZ) by Hoang Thuy Linh\n",
      "Error: No Match từ chối nhẹ nhàng thôi by Bich Phuong\n"
     ]
    }
   ],
   "source": [
    "spotify_json_to_lyrics_json('top_50_VN.json')"
   ]
  },
  {
   "cell_type": "code",
   "execution_count": 6,
   "metadata": {},
   "outputs": [
    {
     "name": "stdout",
     "output_type": "stream",
     "text": [
      "Error: No Match It Ain't Me (with Selena Gomez) by Kygo\n",
      "Error: No Match Murcielago by KC Rebell\n",
      "Error: No Match You Don't Know Me - Radio Edit by Jax Jones\n",
      "Error: No Match Two Princes - Radio Mix by Fake Pictures\n"
     ]
    }
   ],
   "source": [
    "spotify_json_to_lyrics_json('top_50_Ger.json')"
   ]
  },
  {
   "cell_type": "markdown",
   "metadata": {},
   "source": [
    "**Manually searching Genius API for songs that were not found**"
   ]
  },
  {
   "cell_type": "markdown",
   "metadata": {},
   "source": [
    "Checking unfound JP top 50 songs "
   ]
  },
  {
   "cell_type": "code",
   "execution_count": 7,
   "metadata": {},
   "outputs": [],
   "source": [
    "genius_json_path='../w205-project3/outputs/genius/genuis_lyrics_top_50_'\n",
    "JP_dict=read_json_file(genius_json_path+'JP.json')"
   ]
  },
  {
   "cell_type": "code",
   "execution_count": 8,
   "metadata": {},
   "outputs": [],
   "source": [
    "JP_dict['32']['lyrics']=get_lyrics_genius_API(song_title=\"Maharajan - Boku no supinahito 僕のスピな人\"  \\\n",
    "                                            , artist_name=\"Genius English Translations\")\n",
    "JP_dict['42']['lyrics']=get_lyrics_genius_API(song_title=\"Given-Taken (Japanese Ver.)\", \\\n",
    "                                              artist_name=\"ENHYPEN (엔하이픈)\")\n",
    "#Song index 46, U+ by にしな is not in Genius"
   ]
  },
  {
   "cell_type": "code",
   "execution_count": 9,
   "metadata": {},
   "outputs": [],
   "source": [
    "with open(genius_json_path+'JP.json', \"w\") as outfile: \n",
    "    json.dump(JP_dict, outfile)"
   ]
  },
  {
   "cell_type": "markdown",
   "metadata": {},
   "source": [
    "Checking unfound VN top 50 songs "
   ]
  },
  {
   "cell_type": "code",
   "execution_count": 10,
   "metadata": {},
   "outputs": [],
   "source": [
    "genius_json_path='../w205-project3/outputs/genius/genuis_lyrics_top_50_'\n",
    "VN_dict=read_json_file(genius_json_path+'VN.json')"
   ]
  },
  {
   "cell_type": "code",
   "execution_count": 11,
   "metadata": {},
   "outputs": [],
   "source": [
    "client_access_token='Q56ffH3XEyFV-Obd4uUhh2E8aZvC3ncgNXRPef5qP1nhyJaLUbr5ENYuZNtB472_'\n",
    "headers = {'Authorization': 'Bearer '+client_access_token}\n",
    "\n",
    "#double take by dhruv, lyrics scraped directly from song_api_path\n",
    "VN_dict['3']['lyrics']=lyrics_from_song_api_path(song_api_path=\"/songs/4651202\", \\\n",
    "                                             headers=headers)\n",
    "\n",
    "#Song index 9, The Playah by Soobin Hoang Son is not in Genius\n",
    "\n",
    "VN_dict['26']['lyrics']=get_lyrics_genius_API(song_title= \"3 1 0 7 -2\"\n",
    "                                            , artist_name= \"Duongg\")\n",
    "VN_dict['39']['lyrics']=get_lyrics_genius_API(song_title= \"Tháng Mấy Em Nhớ Anh\"\\\n",
    "                                            , artist_name= \"Hà Anh Tuấn\")\n",
    "VN_dict['43']['lyrics']=get_lyrics_genius_API(song_title= \"Kẻ Cắp Gặp Bà Già (Diamond Cut Diamond)\"\\\n",
    "                                            , artist_name= \"Hoàng Thuỳ Linh\")\n",
    "VN_dict['46']['lyrics']=get_lyrics_genius_API(song_title= \"từ chối nhẹ nhàng thôi\"\\\n",
    "                                            , artist_name= \"Bích Phương & Phúc Du\")\n"
   ]
  },
  {
   "cell_type": "code",
   "execution_count": 12,
   "metadata": {},
   "outputs": [],
   "source": [
    "with open(genius_json_path+'VN.json', \"w\") as outfile: \n",
    "    json.dump(VN_dict, outfile)"
   ]
  },
  {
   "cell_type": "code",
   "execution_count": null,
   "metadata": {},
   "outputs": [],
   "source": []
  }
 ],
 "metadata": {
  "environment": {
   "name": "tf-gpu.1-15.m69",
   "type": "gcloud",
   "uri": "gcr.io/deeplearning-platform-release/tf-gpu.1-15:m69"
  },
  "kernelspec": {
   "display_name": "Python 3",
   "language": "python",
   "name": "python3"
  },
  "language_info": {
   "codemirror_mode": {
    "name": "ipython",
    "version": 3
   },
   "file_extension": ".py",
   "mimetype": "text/x-python",
   "name": "python",
   "nbconvert_exporter": "python",
   "pygments_lexer": "ipython3",
   "version": "3.7.10"
  }
 },
 "nbformat": 4,
 "nbformat_minor": 4
}
